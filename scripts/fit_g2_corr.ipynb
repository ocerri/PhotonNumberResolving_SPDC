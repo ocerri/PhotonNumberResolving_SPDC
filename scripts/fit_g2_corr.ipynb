{
 "cells": [
  {
   "cell_type": "markdown",
   "metadata": {},
   "source": [
    "### Imports and loads"
   ]
  },
  {
   "cell_type": "code",
   "execution_count": 1,
   "metadata": {
    "ExecuteTime": {
     "end_time": "2022-01-27T23:46:50.770525Z",
     "start_time": "2022-01-27T23:46:49.949222Z"
    }
   },
   "outputs": [],
   "source": [
    "import sys, yaml\n",
    "sys.path.append('../lib')\n",
    "import numpy as np\n",
    "import pandas as pd\n",
    "import matplotlib.pyplot as plt\n",
    "from iminuit import Minuit"
   ]
  },
  {
   "cell_type": "code",
   "execution_count": 2,
   "metadata": {
    "ExecuteTime": {
     "end_time": "2022-01-27T23:46:50.775588Z",
     "start_time": "2022-01-27T23:46:50.772182Z"
    }
   },
   "outputs": [],
   "source": [
    "from spdc_model_utils import countProbaIdler, countProbaSignal\n",
    "from spdc_model_utils import countProbaS1S2, countProbaiS"
   ]
  },
  {
   "cell_type": "code",
   "execution_count": 3,
   "metadata": {
    "ExecuteTime": {
     "end_time": "2022-01-27T23:46:50.783094Z",
     "start_time": "2022-01-27T23:46:50.777195Z"
    }
   },
   "outputs": [],
   "source": [
    "lambda_s = pd.read_csv('../data/schmidt_eigenvalues.csv', index_col=0)"
   ]
  },
  {
   "cell_type": "code",
   "execution_count": 7,
   "metadata": {
    "ExecuteTime": {
     "end_time": "2022-01-27T23:47:00.203061Z",
     "start_time": "2022-01-27T23:47:00.198360Z"
    }
   },
   "outputs": [],
   "source": [
    "def Ris1s2_pnr_analytic(mu, eta_s1,eta_s2, eta_i, k=10,lambdas=[1]):\n",
    "    term1 = 1\n",
    "    term2 = 1\n",
    "    term3 = 1\n",
    "    term4 = 1\n",
    "    term5 = 1\n",
    "    term6 = 1\n",
    "    term7=1\n",
    "    term8=1\n",
    "    for l in lambdas:\n",
    "        m = l*mu\n",
    "        term1*=2**k/(2**k + (2**k -1)*m*eta_i)\n",
    "        term2*=2**(k+1)/(m*eta_s1*(2**k - (2**k - 1)*eta_i)+2*(2**k + (2**k - 1)*m*eta_i))\n",
    "        term3*=2**(k+1)/(m*eta_s2*(2**k - (2**k - 1)*eta_i)+2*(2**k + (2**k - 1)*m*eta_i))\n",
    "        term4*=2**(k+1)/(m*(eta_s1+eta_s2)*(2**k - (2**k - 1)*eta_i)+2*(2**k + (2**k - 1)*m*eta_i))\n",
    "        term5*=1/(1+m*eta_i)\n",
    "        term6*=2/(2+2*m*eta_i + eta_s1*m*(1-eta_i))\n",
    "        term7*=2/(2+2*m*eta_i + eta_s2*m*(1-eta_i))\n",
    "        term8*=2/(2+2*m*eta_i + (eta_s1+eta_s2)*m*(1-eta_i))\n",
    "    total = 2**k*(term1-term2-term3+term4-term5+term6+term7-term8)\n",
    "\n",
    "    return total"
   ]
  },
  {
   "cell_type": "code",
   "execution_count": null,
   "metadata": {},
   "outputs": [],
   "source": [
    "def countProbai12(mu, eta_i, eta_1, eta_2, k=0, lambdas=np.ones(1)):\n",
    "    kk = 2**k\n",
    "\n",
    "    ei_m_l = np.atleast_2d(eta_i*mu).T * np.atleast_1d(lambdas)\n",
    "\n",
    "    term1 = kk / (kk + (kk - 1)*ei_m_l)\n",
    "    term1 = np.product(term1, axis=1)\n",
    "    \n",
    "    aux = mu*eta_1*(kk - (kk - 1)*eta_i)\n",
    "    aux = np.atleast_2d(aux).T * np.atleast_1d(lambdas)\n",
    "    term2 = 2*kk / (aux + 2*(kk + (kk - 1)*ei_m_l))\n",
    "    term2 = np.product(term2, axis=1)\n",
    "    \n",
    "    aux = mu*eta_2*(kk - (kk - 1)*eta_i)\n",
    "    aux = np.atleast_2d(aux).T * np.atleast_1d(lambdas)\n",
    "    term3 = 2*kk / (aux + 2*(kk + (kk - 1)*ei_m_l))\n",
    "    term3 = np.product(term3, axis=1)"
   ]
  },
  {
   "cell_type": "code",
   "execution_count": 6,
   "metadata": {
    "ExecuteTime": {
     "end_time": "2022-01-27T23:46:50.803489Z",
     "start_time": "2022-01-27T23:46:50.797988Z"
    }
   },
   "outputs": [
    {
     "name": "stdout",
     "output_type": "stream",
     "text": [
      "Sam\n",
      "1:  1.0\n",
      "2:  0.9753683524661332\n",
      "3:  0.9608900958423464\n",
      "4:  0.946633056214849\n",
      "0.010374607906369349\n",
      "\n",
      "Me\n",
      "1:  1.0\n",
      "2:  0.9753683524661332\n",
      "3:  0.9608900958423464\n",
      "4:  0.946633056214849\n",
      "0.010374607906369349\n"
     ]
    }
   ],
   "source": [
    "mu = 0.1\n",
    "eta_s = 0.5\n",
    "eta_i = 0.4\n",
    "k = 0\n",
    "lambdas = lambda_s['central']\n",
    "\n",
    "print('Sam')\n",
    "print( Risj_pnr_analytic(mu, eta_s, eta_i, k=k, lambdas=lambdas) )\n",
    "\n",
    "print('\\nMe')\n",
    "print( countProbaiS(mu, eta_i, eta_s, k=k, lambdas=lambdas) )"
   ]
  },
  {
   "cell_type": "code",
   "execution_count": null,
   "metadata": {},
   "outputs": [],
   "source": []
  },
  {
   "cell_type": "code",
   "execution_count": null,
   "metadata": {},
   "outputs": [],
   "source": []
  }
 ],
 "metadata": {
  "kernelspec": {
   "display_name": "Python 3 (ipykernel)",
   "language": "python",
   "name": "python3"
  },
  "language_info": {
   "codemirror_mode": {
    "name": "ipython",
    "version": 3
   },
   "file_extension": ".py",
   "mimetype": "text/x-python",
   "name": "python",
   "nbconvert_exporter": "python",
   "pygments_lexer": "ipython3",
   "version": "3.10.2"
  }
 },
 "nbformat": 4,
 "nbformat_minor": 2
}
