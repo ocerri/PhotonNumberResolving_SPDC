{
 "cells": [
  {
   "cell_type": "markdown",
   "metadata": {},
   "source": [
    "### Imports and loads"
   ]
  },
  {
   "cell_type": "code",
   "execution_count": 1,
   "metadata": {
    "ExecuteTime": {
     "end_time": "2022-01-28T00:09:33.001947Z",
     "start_time": "2022-01-28T00:09:32.093903Z"
    }
   },
   "outputs": [],
   "source": [
    "import sys, yaml\n",
    "sys.path.append('../lib')\n",
    "import numpy as np\n",
    "import pandas as pd\n",
    "import matplotlib.pyplot as plt\n",
    "from iminuit import Minuit"
   ]
  },
  {
   "cell_type": "code",
   "execution_count": 2,
   "metadata": {
    "ExecuteTime": {
     "end_time": "2022-01-28T00:09:33.009774Z",
     "start_time": "2022-01-28T00:09:33.004107Z"
    }
   },
   "outputs": [],
   "source": [
    "from spdc_model_utils import countProbaIdler, countProbaSignal\n",
    "from spdc_model_utils import countProbaS1S2, countProbaiS, countProbai12\n",
    "from spdc_model_utils import g2_0"
   ]
  },
  {
   "cell_type": "code",
   "execution_count": 4,
   "metadata": {
    "ExecuteTime": {
     "end_time": "2022-01-28T00:10:32.923052Z",
     "start_time": "2022-01-28T00:10:32.915405Z"
    }
   },
   "outputs": [],
   "source": [
    "lambda_s = pd.read_csv('../data/schmidt_eigenvalues.csv', index_col=0)\n",
    "df = pd.read_csv('../data/measured_rates_etaAndMu.csv')"
   ]
  },
  {
   "cell_type": "code",
   "execution_count": 7,
   "metadata": {
    "ExecuteTime": {
     "end_time": "2022-01-28T00:12:26.252483Z",
     "start_time": "2022-01-28T00:12:26.248720Z"
    }
   },
   "outputs": [],
   "source": [
    "with open('../data/efficiencies_estimation.yml', 'r') as fileIn:\n",
    "    eff = yaml.load(fileIn, Loader=yaml.Loader)"
   ]
  },
  {
   "cell_type": "code",
   "execution_count": 8,
   "metadata": {
    "ExecuteTime": {
     "end_time": "2022-01-28T00:12:29.071486Z",
     "start_time": "2022-01-28T00:12:29.068139Z"
    }
   },
   "outputs": [
    {
     "data": {
      "text/plain": [
       "{'eta0_1': [0.36724232090004233, 0.009365228154468433],\n",
       " 'eta0_2': [0.43523796180169366, 0.005182258933552966],\n",
       " 'eta0_i': [0.31931173659696527, 0.0066173720608280395]}"
      ]
     },
     "execution_count": 8,
     "metadata": {},
     "output_type": "execute_result"
    }
   ],
   "source": [
    "eff"
   ]
  },
  {
   "cell_type": "code",
   "execution_count": null,
   "metadata": {},
   "outputs": [],
   "source": []
  }
 ],
 "metadata": {
  "kernelspec": {
   "display_name": "Python 3 (ipykernel)",
   "language": "python",
   "name": "python3"
  },
  "language_info": {
   "codemirror_mode": {
    "name": "ipython",
    "version": 3
   },
   "file_extension": ".py",
   "mimetype": "text/x-python",
   "name": "python",
   "nbconvert_exporter": "python",
   "pygments_lexer": "ipython3",
   "version": "3.10.2"
  }
 },
 "nbformat": 4,
 "nbformat_minor": 2
}
